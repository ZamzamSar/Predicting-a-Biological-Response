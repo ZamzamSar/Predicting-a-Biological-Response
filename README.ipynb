{
 "cells": [
  {
   "cell_type": "markdown",
   "id": "e21ea757",
   "metadata": {},
   "source": [
    "## Predicting a Biological Response  "
   ]
  },
  {
   "cell_type": "markdown",
   "id": "fff6d58b",
   "metadata": {},
   "source": [
    "**By: Zamzam Alsarayrah**"
   ]
  },
  {
   "cell_type": "markdown",
   "id": "8274ba3d",
   "metadata": {},
   "source": [
    "## Problem statement :\n",
    "\n",
    "As the chemical preparties of the different macules affect the biological response of these molecules which results in affecting the final product made by these molecules. Studying the biological activity of molecules using the test and trail can be costly in time and effort. Using the benefit of ML we are going to predict the biological activity response of different molecules based on their chemical preparties.\n",
    "\n",
    "The data we got has the chemical preparties of different  molecules  beside the experimental data describing which  a real biological response; the molecule was seen to elicit this response (1), or not (0).\n"
   ]
  },
  {
   "cell_type": "markdown",
   "id": "43dde82e",
   "metadata": {},
   "source": [
    "### Data Collection\n",
    "Frome Kaggel Competitions \n",
    "https://www.kaggle.com/c/bioresponse/code"
   ]
  },
  {
   "cell_type": "markdown",
   "id": "4c3286bf",
   "metadata": {},
   "source": [
    "### Data Cleaning and EDA\n",
    "\n",
    "**Steps**\n",
    "\n",
    "- General understanding of the data\n",
    "- Feature Importance of the individual column data\n",
    "- Implementation of model on test set\n",
    "  \n",
    "**EDA**\n",
    "- Check for Missing values\n",
    "- Check name of columns\n",
    "- Find categorical and numerical columns"
   ]
  },
  {
   "cell_type": "markdown",
   "id": "bc88cf45",
   "metadata": {},
   "source": [
    "## Preprocessing and molding\n",
    "\n",
    " \n",
    "\n",
    "**Our baseline model is logistic regression with all the features as input. The train and test accuracy of the baseline model are 0.88 o.75 respectively. These scores show a high overfit, so our new model should reduce the overfit.**\n",
    "\n",
    " \n",
    "\n",
    "**At first we have to reduce the number of features :**\n",
    "\n",
    "- Use the heat map to get the correlation between the features and the activity model\n",
    "- Get the features that have more than 0.1 correlation factor with the activity column.\n",
    "- Split the X data to train and test data.\n",
    "- Apply the logistic regression model\n",
    " \n",
    "\n",
    "**The second method is using PCA for dimension reduction**\n",
    "\n",
    "- Put all the features columns in the X array.\n",
    "- Split the X array to train and test data.\n",
    "- Apply the standard scaler to both the train and test data\n",
    "- Fit the  PCA with 200 component to the train data\n",
    "- PCA transform of both the test and train data\n",
    "- Fit the  logistic regression model on the X train data after transformation."
   ]
  },
  {
   "cell_type": "markdown",
   "id": "6b329514",
   "metadata": {},
   "source": [
    "### Conclusion and Recommendations\n",
    "\n",
    "As a conclusion from what we have applied to the data set:\n",
    "\n",
    "- When we applied the logistic regression to the whole features we had an overfit which was  expected because the amount of data we have is very little compared to the number of features.\n",
    "-  Using the heat map to reduce the number of features helped with reduce the overfit but still we have some amount of overfit.\n",
    "-  PCA did help with the overfit but not as much as the heat map.\n",
    "- We need to get more train data to improve the model learning.\n",
    "The overall all accuracy for all models wasn’t that good.\n"
   ]
  },
  {
   "cell_type": "code",
   "execution_count": null,
   "id": "294becf9",
   "metadata": {},
   "outputs": [],
   "source": []
  }
 ],
 "metadata": {
  "kernelspec": {
   "display_name": "Python 3",
   "language": "python",
   "name": "python3"
  },
  "language_info": {
   "codemirror_mode": {
    "name": "ipython",
    "version": 3
   },
   "file_extension": ".py",
   "mimetype": "text/x-python",
   "name": "python",
   "nbconvert_exporter": "python",
   "pygments_lexer": "ipython3",
   "version": "3.8.8"
  }
 },
 "nbformat": 4,
 "nbformat_minor": 5
}
